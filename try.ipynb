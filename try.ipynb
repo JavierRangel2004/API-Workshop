{
 "cells": [
  {
   "cell_type": "code",
   "execution_count": null,
   "metadata": {},
   "outputs": [],
   "source": [
    "import requests\n",
    "import plotly.graph_objects as go\n",
    "\n",
    "def obtener_info_pokemon(nombre):\n",
    "    url = f\"https://pokeapi.co/api/v2/pokemon/{nombre.lower()}\"\n",
    "    response = requests.get(url)\n",
    "    if response.status_code == 200:\n",
    "        data = response.json()\n",
    "        stats = {stat['stat']['name']: stat['base_stat'] for stat in data['stats']}\n",
    "        return stats\n",
    "    else:\n",
    "        return None\n",
    "\n",
    "def mostrar_grafica_estadisticas_pokemon(nombre):\n",
    "    info_pokemon = obtener_info_pokemon(nombre)\n",
    "    if info_pokemon:\n",
    "        stats = info_pokemon\n",
    "\n",
    "        # Graficar estadísticas\n",
    "        stats_fig = go.Figure(data=[go.Bar(x=list(stats.keys()), y=list(stats.values()))])\n",
    "        stats_fig.update_layout(title=f\"Estadísticas de {nombre.capitalize()}\",\n",
    "                                xaxis_title=\"Estadística\",\n",
    "                                yaxis_title=\"Valor\")\n",
    "        stats_fig.show()\n",
    "\n",
    "    else:\n",
    "        print(f\"No se encontró información para el Pokémon {nombre.capitalize()}.\")\n"
   ]
  },
  {
   "cell_type": "code",
   "execution_count": null,
   "metadata": {},
   "outputs": [],
   "source": [
    "mostrar_grafica_estadisticas_pokemon(\"pikachu\")"
   ]
  }
 ],
 "metadata": {
  "kernelspec": {
   "display_name": "Python 3",
   "language": "python",
   "name": "python3"
  },
  "language_info": {
   "codemirror_mode": {
    "name": "ipython",
    "version": 3
   },
   "file_extension": ".py",
   "mimetype": "text/x-python",
   "name": "python",
   "nbconvert_exporter": "python",
   "pygments_lexer": "ipython3",
   "version": "3.10.11"
  },
  "orig_nbformat": 4
 },
 "nbformat": 4,
 "nbformat_minor": 2
}
